{
 "cells": [
  {
   "cell_type": "markdown",
   "metadata": {},
   "source": [
    "## PHÂN TÍCH SỐ LIỆU CỦA THỬ THÁCH DẬY SỚM LÚC 4H SÁNG (4AM_CHALLENGE)"
   ]
  },
  {
   "cell_type": "markdown",
   "metadata": {},
   "source": [
    "### Bước 1: Nhập dữ liệu "
   ]
  },
  {
   "cell_type": "markdown",
   "metadata": {},
   "source": [
    "Dữ liệu thời gian dậy trong 30 ngày được lưu trữ trong file data.csv định dạng csv"
   ]
  },
  {
   "cell_type": "code",
   "execution_count": 134,
   "metadata": {
    "collapsed": true
   },
   "outputs": [],
   "source": [
    "import pandas as pd\n",
    "raw_data = pd.read_csv(\"data.csv\", index_col=0, sep=';', skipinitialspace = True)\n",
    "raw_data = raw_data.iloc[::-1] # revese rows\n",
    "get_up_data = pd.to_datetime(raw_data['GET_UP_TIME'].str.strip(), format='%H:%M')\n",
    "raw_data['GET_UP_TIME'] = get_up_data"
   ]
  },
  {
   "cell_type": "markdown",
   "metadata": {},
   "source": [
    "### Bước 2. Hiển thị dữ liệu để kiểm tra "
   ]
  },
  {
   "cell_type": "markdown",
   "metadata": {},
   "source": [
    "Cột DAY là số ngày thực hiện thử thách, cột GET_UP_TIME là thời gian dậy của buổi hôm đó (ghi nhận thông qua status Facebook) "
   ]
  },
  {
   "cell_type": "code",
   "execution_count": 126,
   "metadata": {},
   "outputs": [
    {
     "name": "stdout",
     "output_type": "stream",
     "text": [
      "    GET_UP_TIME\n",
      "DAY            \n",
      "1      04:05:00\n",
      "2      04:05:00\n",
      "3      07:00:00\n",
      "4      04:05:00\n",
      "5      07:02:00\n",
      "6      07:06:00\n",
      "7      04:05:00\n",
      "8      04:17:00\n",
      "9      04:17:00\n",
      "10     06:17:00\n",
      "11     06:18:00\n",
      "12     04:13:00\n",
      "13     04:14:00\n",
      "14     04:13:00\n",
      "15     04:11:00\n",
      "16     04:45:00\n",
      "17     08:00:00\n",
      "18     08:00:00\n",
      "19     04:05:00\n",
      "20     07:25:00\n",
      "21     05:15:00\n",
      "22     09:47:00\n",
      "23     07:16:00\n",
      "24     04:26:00\n",
      "25     07:53:00\n",
      "26     06:28:00\n",
      "27     04:58:00\n",
      "28     06:26:00\n",
      "29     06:15:00\n",
      "30     04:19:00\n"
     ]
    }
   ],
   "source": [
    " print(raw_data)"
   ]
  },
  {
   "cell_type": "markdown",
   "metadata": {},
   "source": [
    "### Bước 3: Phân tích dữ liệu qua biểu đồ "
   ]
  },
  {
   "cell_type": "code",
   "execution_count": 135,
   "metadata": {},
   "outputs": [
    {
     "data": {
      "text/plain": [
       "<matplotlib.axes._subplots.AxesSubplot at 0x11b72a710>"
      ]
     },
     "execution_count": 135,
     "metadata": {},
     "output_type": "execute_result"
    },
    {
     "data": {
      "image/png": "[encoded data removed]",
      "text/plain": [
       "<Figure size 432x288 with 1 Axes>"
      ]
     },
     "metadata": {
      "needs_background": "light"
     },
     "output_type": "display_data"
    }
   ],
   "source": [
    "import matplotlib.pyplot as plt\n",
    "get_up_data.plot()"
   ]
  },
  {
   "cell_type": "markdown",
   "metadata": {},
   "source": [
    "Nhận xét: trong 1 tuần đầu chưa hình thành thói quen, cứ dậy sớm một hôm sẽ dẫn đến hôm sau bị thiếu ngủ và hôm sau nữa dậy muộn hơn. Sang tuần thứ hai bắt đầu quen nhịp sinh hoạt, có thể duy trì được tỉ lệ dậy sớm khá dài, và chỉ  bị fail lớn vào cuối tuần. Qua ngày 15 bắt đầu mất nhịp sinh hoạt, do chạy deadline nên không duy trì được lịch ngủ sớm như trước, dẫn đến các lần fail cũng muộn hơn và những buổi hoàn thành cũng không được sớm như giai đoạn trước."
   ]
  },
  {
   "cell_type": "markdown",
   "metadata": {},
   "source": [
    "### Bước 4: Phân tích một số chỉ số cụ thể "
   ]
  },
  {
   "cell_type": "code",
   "execution_count": 140,
   "metadata": {},
   "outputs": [
    {
     "name": "stdout",
     "output_type": "stream",
     "text": [
      "Thời gian dậy trung bình: 05:41:32\n"
     ]
    }
   ],
   "source": [
    "print(f'Thời gian dậy trung bình: {get_up_data.mean().time()}')"
   ]
  },
  {
   "cell_type": "code",
   "execution_count": 163,
   "metadata": {
    "scrolled": true
   },
   "outputs": [
    {
     "name": "stdout",
     "output_type": "stream",
     "text": [
      "Số buổi dậy lúc 4h30 am: 13. Tỉ lệ: 43.333333333333336%\n",
      "Số buổi dậy trước 5h30 am: 16. Tỉ lệ: 53.333333333333336%\n",
      "Số buổi dậy trước 6h30 am: 21. Tỉ lệ: 70.0%\n",
      "Số buổi dậy sau 6h30 am: 9. Tỉ lệ: 30.0%\n"
     ]
    }
   ],
   "source": [
    "import datetime \n",
    "count_4_am_success = get_up_data[get_up_data.dt.time < datetime.time(4, 30, 0)].count()\n",
    "count_5_am_success = get_up_data[get_up_data.dt.time < datetime.time(5, 30, 0)].count()\n",
    "count_6_am_success = get_up_data[get_up_data.dt.time < datetime.time(6, 30, 0)].count()\n",
    "count_6_am_failure = get_up_data[get_up_data.dt.time >= datetime.time(6, 30, 0)].count()\n",
    "\n",
    "print(f'Số buổi dậy lúc 4h30 am: {count_4_am_success}. Tỉ lệ: {count_4_am_success/30*100}%')\n",
    "print(f'Số buổi dậy trước 5h30 am: {count_5_am_success}. Tỉ lệ: {count_5_am_success/30*100}%')\n",
    "print(f'Số buổi dậy trước 6h30 am: {count_6_am_success}. Tỉ lệ: {count_6_am_success/30*100}%')\n",
    "print(f'Số buổi dậy sau 6h30 am: {count_6_am_failure}. Tỉ lệ: {count_6_am_failure/30*100}%')\n"
   ]
  },
  {
   "cell_type": "markdown",
   "metadata": {},
   "source": [
    "### Kết luận"
   ]
  },
  {
   "cell_type": "markdown",
   "metadata": {},
   "source": [
    "1. Việc tham gia thử thách 4am_challenge làm giảm đáng kể thời gian dậy trung bình từ 7h00 trước đây xuống 5h41 \n",
    "2. Giai đoạn đầu tham gia thử thách là khó khăn nhất. Sau 1 tuần đầu tiên thì có thể duy trì được lịch sinh hoạt mới \n",
    "3. Đi ngủ sớm là yếu tố mấu chốt đối với việc dậy sớm. Yếu tố thứ hai là phải duy trì đều đặn. "
   ]
  }
 ],
 "metadata": {
  "kernelspec": {
   "display_name": "Python 3",
   "language": "python",
   "name": "python3"
  },
  "language_info": {
   "codemirror_mode": {
    "name": "ipython",
    "version": 3
   },
   "file_extension": ".py",
   "mimetype": "text/x-python",
   "name": "python",
   "nbconvert_exporter": "python",
   "pygments_lexer": "ipython3",
   "version": "3.7.7"
  }
 },
 "nbformat": 4,
 "nbformat_minor": 4
}
